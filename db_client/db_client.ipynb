{
 "cells": [
  {
   "cell_type": "code",
   "execution_count": 1,
   "id": "3fc8f461",
   "metadata": {},
   "outputs": [],
   "source": [
    "import mysql.connector as connector"
   ]
  },
  {
   "cell_type": "code",
   "execution_count": 2,
   "id": "916bdf20",
   "metadata": {},
   "outputs": [],
   "source": [
    "connection = connector.connect(user = \"meta_db_engineer_capstone\", \n",
    "                               password = \"\",\n",
    "                               db = \"littlelemondb\" )"
   ]
  },
  {
   "cell_type": "code",
   "execution_count": 3,
   "id": "b9f39c82",
   "metadata": {},
   "outputs": [],
   "source": [
    "show_tables_query = \"SHOW tables\" "
   ]
  },
  {
   "cell_type": "code",
   "execution_count": 4,
   "id": "37e515f1",
   "metadata": {},
   "outputs": [],
   "source": [
    "cursor = connection.cursor()"
   ]
  },
  {
   "cell_type": "code",
   "execution_count": 5,
   "id": "59be8131",
   "metadata": {},
   "outputs": [],
   "source": [
    "cursor.execute(show_tables_query)"
   ]
  },
  {
   "cell_type": "code",
   "execution_count": 6,
   "id": "c66c89d5",
   "metadata": {},
   "outputs": [],
   "source": [
    "results = cursor.fetchall()"
   ]
  },
  {
   "cell_type": "code",
   "execution_count": 7,
   "id": "66faf5ff",
   "metadata": {},
   "outputs": [
    {
     "name": "stdout",
     "output_type": "stream",
     "text": [
      "('addresses',)\n",
      "('bookings',)\n",
      "('cuisines',)\n",
      "('customers',)\n",
      "('deliveries',)\n",
      "('menu',)\n",
      "('menu_items',)\n",
      "('orders',)\n",
      "('ordersview',)\n",
      "('staff',)\n",
      "('staff_roles',)\n",
      "('status',)\n"
     ]
    }
   ],
   "source": [
    "for r in results:\n",
    "    print(r)"
   ]
  },
  {
   "cell_type": "code",
   "execution_count": 8,
   "id": "056fa1b4",
   "metadata": {},
   "outputs": [],
   "source": [
    "customers_w_orders = \"\"\"SELECT DISTINCT name,\n",
    "                                      phone\n",
    "                      FROM orders\n",
    "                      LEFT JOIN customers ON orders.customer_id = orders.customer_id\n",
    "                      WHERE total_cost >= 60\"\"\""
   ]
  },
  {
   "cell_type": "code",
   "execution_count": 9,
   "id": "b7075913",
   "metadata": {},
   "outputs": [],
   "source": [
    "cursor = connection.cursor()"
   ]
  },
  {
   "cell_type": "code",
   "execution_count": 10,
   "id": "9ad1f19d",
   "metadata": {},
   "outputs": [],
   "source": [
    "cursor.execute(customers_w_orders)"
   ]
  },
  {
   "cell_type": "code",
   "execution_count": 11,
   "id": "2e64c058",
   "metadata": {},
   "outputs": [],
   "source": [
    "results = cursor.fetchall()"
   ]
  },
  {
   "cell_type": "code",
   "execution_count": 12,
   "id": "8ff01901",
   "metadata": {},
   "outputs": [
    {
     "name": "stdout",
     "output_type": "stream",
     "text": [
      "('Hank Purple', '555-5432')\n",
      "('Grace Red', '555-4321')\n",
      "('Frank Blue', '555-3210')\n",
      "('Ella Green', '555-0987')\n",
      "('David White', '555-6543')\n",
      "('Charlie Black', '555-7890')\n",
      "('Bob Brown', '555-3456')\n",
      "('Alice Johnson', '555-8765')\n",
      "('Jane Smith', '555-5678')\n",
      "('John Doe', '555-1234')\n"
     ]
    }
   ],
   "source": [
    "for r in results:\n",
    "    print(r)"
   ]
  }
 ],
 "metadata": {
  "kernelspec": {
   "display_name": "Python 3 (ipykernel)",
   "language": "python",
   "name": "python3"
  },
  "language_info": {
   "codemirror_mode": {
    "name": "ipython",
    "version": 3
   },
   "file_extension": ".py",
   "mimetype": "text/x-python",
   "name": "python",
   "nbconvert_exporter": "python",
   "pygments_lexer": "ipython3",
   "version": "3.9.13"
  }
 },
 "nbformat": 4,
 "nbformat_minor": 5
}
